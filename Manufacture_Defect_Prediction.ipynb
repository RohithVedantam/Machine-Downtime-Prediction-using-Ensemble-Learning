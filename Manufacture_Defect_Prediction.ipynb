{
 "cells": [
  {
   "cell_type": "markdown",
   "metadata": {},
   "source": [
    "Exploratory Data Analysis(EDA)"
   ]
  },
  {
   "cell_type": "code",
   "execution_count": 33,
   "metadata": {},
   "outputs": [],
   "source": [
    "import pandas as pd"
   ]
  },
  {
   "cell_type": "code",
   "execution_count": 34,
   "metadata": {},
   "outputs": [],
   "source": [
    "data = pd.read_csv('Machine Downtime.csv')"
   ]
  },
  {
   "cell_type": "code",
   "execution_count": 35,
   "metadata": {},
   "outputs": [
    {
     "data": {
      "text/html": [
       "<div>\n",
       "<style scoped>\n",
       "    .dataframe tbody tr th:only-of-type {\n",
       "        vertical-align: middle;\n",
       "    }\n",
       "\n",
       "    .dataframe tbody tr th {\n",
       "        vertical-align: top;\n",
       "    }\n",
       "\n",
       "    .dataframe thead th {\n",
       "        text-align: right;\n",
       "    }\n",
       "</style>\n",
       "<table border=\"1\" class=\"dataframe\">\n",
       "  <thead>\n",
       "    <tr style=\"text-align: right;\">\n",
       "      <th></th>\n",
       "      <th>Date</th>\n",
       "      <th>Machine_ID</th>\n",
       "      <th>Assembly_Line_No</th>\n",
       "      <th>Hydraulic_Pressure(bar)</th>\n",
       "      <th>Coolant_Pressure(bar)</th>\n",
       "      <th>Air_System_Pressure(bar)</th>\n",
       "      <th>Coolant_Temperature</th>\n",
       "      <th>Hydraulic_Oil_Temperature(?C)</th>\n",
       "      <th>Spindle_Bearing_Temperature(?C)</th>\n",
       "      <th>Spindle_Vibration(?m)</th>\n",
       "      <th>Tool_Vibration(?m)</th>\n",
       "      <th>Spindle_Speed(RPM)</th>\n",
       "      <th>Voltage(volts)</th>\n",
       "      <th>Torque(Nm)</th>\n",
       "      <th>Cutting(kN)</th>\n",
       "      <th>Downtime</th>\n",
       "    </tr>\n",
       "  </thead>\n",
       "  <tbody>\n",
       "    <tr>\n",
       "      <th>0</th>\n",
       "      <td>31-12-2021</td>\n",
       "      <td>Makino-L1-Unit1-2013</td>\n",
       "      <td>Shopfloor-L1</td>\n",
       "      <td>71.04</td>\n",
       "      <td>6.933725</td>\n",
       "      <td>6.284965</td>\n",
       "      <td>25.6</td>\n",
       "      <td>46.0</td>\n",
       "      <td>33.4</td>\n",
       "      <td>1.291</td>\n",
       "      <td>26.492</td>\n",
       "      <td>25892.0</td>\n",
       "      <td>335.0</td>\n",
       "      <td>24.055326</td>\n",
       "      <td>3.58</td>\n",
       "      <td>Machine_Failure</td>\n",
       "    </tr>\n",
       "    <tr>\n",
       "      <th>1</th>\n",
       "      <td>31-12-2021</td>\n",
       "      <td>Makino-L1-Unit1-2013</td>\n",
       "      <td>Shopfloor-L1</td>\n",
       "      <td>125.33</td>\n",
       "      <td>4.936892</td>\n",
       "      <td>6.196733</td>\n",
       "      <td>35.3</td>\n",
       "      <td>47.4</td>\n",
       "      <td>34.6</td>\n",
       "      <td>1.382</td>\n",
       "      <td>25.274</td>\n",
       "      <td>19856.0</td>\n",
       "      <td>368.0</td>\n",
       "      <td>14.202890</td>\n",
       "      <td>2.68</td>\n",
       "      <td>Machine_Failure</td>\n",
       "    </tr>\n",
       "    <tr>\n",
       "      <th>2</th>\n",
       "      <td>31-12-2021</td>\n",
       "      <td>Makino-L3-Unit1-2015</td>\n",
       "      <td>Shopfloor-L3</td>\n",
       "      <td>71.12</td>\n",
       "      <td>6.839413</td>\n",
       "      <td>6.655448</td>\n",
       "      <td>13.1</td>\n",
       "      <td>40.7</td>\n",
       "      <td>33.0</td>\n",
       "      <td>1.319</td>\n",
       "      <td>30.608</td>\n",
       "      <td>19851.0</td>\n",
       "      <td>325.0</td>\n",
       "      <td>24.049267</td>\n",
       "      <td>3.55</td>\n",
       "      <td>Machine_Failure</td>\n",
       "    </tr>\n",
       "    <tr>\n",
       "      <th>3</th>\n",
       "      <td>31-05-2022</td>\n",
       "      <td>Makino-L2-Unit1-2015</td>\n",
       "      <td>Shopfloor-L2</td>\n",
       "      <td>139.34</td>\n",
       "      <td>4.574382</td>\n",
       "      <td>6.560394</td>\n",
       "      <td>24.4</td>\n",
       "      <td>44.2</td>\n",
       "      <td>40.6</td>\n",
       "      <td>0.618</td>\n",
       "      <td>30.791</td>\n",
       "      <td>18461.0</td>\n",
       "      <td>360.0</td>\n",
       "      <td>25.860029</td>\n",
       "      <td>3.55</td>\n",
       "      <td>Machine_Failure</td>\n",
       "    </tr>\n",
       "    <tr>\n",
       "      <th>4</th>\n",
       "      <td>31-03-2022</td>\n",
       "      <td>Makino-L1-Unit1-2013</td>\n",
       "      <td>Shopfloor-L1</td>\n",
       "      <td>60.51</td>\n",
       "      <td>6.893182</td>\n",
       "      <td>6.141238</td>\n",
       "      <td>4.1</td>\n",
       "      <td>47.3</td>\n",
       "      <td>31.4</td>\n",
       "      <td>0.983</td>\n",
       "      <td>25.516</td>\n",
       "      <td>26526.0</td>\n",
       "      <td>354.0</td>\n",
       "      <td>25.515874</td>\n",
       "      <td>3.55</td>\n",
       "      <td>Machine_Failure</td>\n",
       "    </tr>\n",
       "  </tbody>\n",
       "</table>\n",
       "</div>"
      ],
      "text/plain": [
       "         Date            Machine_ID Assembly_Line_No  Hydraulic_Pressure(bar)  \\\n",
       "0  31-12-2021  Makino-L1-Unit1-2013     Shopfloor-L1                    71.04   \n",
       "1  31-12-2021  Makino-L1-Unit1-2013     Shopfloor-L1                   125.33   \n",
       "2  31-12-2021  Makino-L3-Unit1-2015     Shopfloor-L3                    71.12   \n",
       "3  31-05-2022  Makino-L2-Unit1-2015     Shopfloor-L2                   139.34   \n",
       "4  31-03-2022  Makino-L1-Unit1-2013     Shopfloor-L1                    60.51   \n",
       "\n",
       "   Coolant_Pressure(bar)  Air_System_Pressure(bar)  Coolant_Temperature  \\\n",
       "0               6.933725                  6.284965                 25.6   \n",
       "1               4.936892                  6.196733                 35.3   \n",
       "2               6.839413                  6.655448                 13.1   \n",
       "3               4.574382                  6.560394                 24.4   \n",
       "4               6.893182                  6.141238                  4.1   \n",
       "\n",
       "   Hydraulic_Oil_Temperature(?C)  Spindle_Bearing_Temperature(?C)  \\\n",
       "0                           46.0                             33.4   \n",
       "1                           47.4                             34.6   \n",
       "2                           40.7                             33.0   \n",
       "3                           44.2                             40.6   \n",
       "4                           47.3                             31.4   \n",
       "\n",
       "   Spindle_Vibration(?m)  Tool_Vibration(?m)  Spindle_Speed(RPM)  \\\n",
       "0                  1.291              26.492             25892.0   \n",
       "1                  1.382              25.274             19856.0   \n",
       "2                  1.319              30.608             19851.0   \n",
       "3                  0.618              30.791             18461.0   \n",
       "4                  0.983              25.516             26526.0   \n",
       "\n",
       "   Voltage(volts)  Torque(Nm)  Cutting(kN)         Downtime  \n",
       "0           335.0   24.055326         3.58  Machine_Failure  \n",
       "1           368.0   14.202890         2.68  Machine_Failure  \n",
       "2           325.0   24.049267         3.55  Machine_Failure  \n",
       "3           360.0   25.860029         3.55  Machine_Failure  \n",
       "4           354.0   25.515874         3.55  Machine_Failure  "
      ]
     },
     "execution_count": 35,
     "metadata": {},
     "output_type": "execute_result"
    }
   ],
   "source": [
    "data.head()"
   ]
  },
  {
   "cell_type": "code",
   "execution_count": 36,
   "metadata": {},
   "outputs": [
    {
     "data": {
      "text/html": [
       "<div>\n",
       "<style scoped>\n",
       "    .dataframe tbody tr th:only-of-type {\n",
       "        vertical-align: middle;\n",
       "    }\n",
       "\n",
       "    .dataframe tbody tr th {\n",
       "        vertical-align: top;\n",
       "    }\n",
       "\n",
       "    .dataframe thead th {\n",
       "        text-align: right;\n",
       "    }\n",
       "</style>\n",
       "<table border=\"1\" class=\"dataframe\">\n",
       "  <thead>\n",
       "    <tr style=\"text-align: right;\">\n",
       "      <th></th>\n",
       "      <th>Date</th>\n",
       "      <th>Machine_ID</th>\n",
       "      <th>Assembly_Line_No</th>\n",
       "      <th>Hydraulic_Pressure(bar)</th>\n",
       "      <th>Coolant_Pressure(bar)</th>\n",
       "      <th>Air_System_Pressure(bar)</th>\n",
       "      <th>Coolant_Temperature</th>\n",
       "      <th>Hydraulic_Oil_Temperature(?C)</th>\n",
       "      <th>Spindle_Bearing_Temperature(?C)</th>\n",
       "      <th>Spindle_Vibration(?m)</th>\n",
       "      <th>Tool_Vibration(?m)</th>\n",
       "      <th>Spindle_Speed(RPM)</th>\n",
       "      <th>Voltage(volts)</th>\n",
       "      <th>Torque(Nm)</th>\n",
       "      <th>Cutting(kN)</th>\n",
       "      <th>Downtime</th>\n",
       "    </tr>\n",
       "  </thead>\n",
       "  <tbody>\n",
       "    <tr>\n",
       "      <th>2495</th>\n",
       "      <td>01-02-2022</td>\n",
       "      <td>Makino-L1-Unit1-2013</td>\n",
       "      <td>Shopfloor-L1</td>\n",
       "      <td>112.715506</td>\n",
       "      <td>5.220885</td>\n",
       "      <td>6.196610</td>\n",
       "      <td>22.3</td>\n",
       "      <td>48.8</td>\n",
       "      <td>37.2</td>\n",
       "      <td>0.910</td>\n",
       "      <td>20.282</td>\n",
       "      <td>20974.0</td>\n",
       "      <td>282.0</td>\n",
       "      <td>22.761610</td>\n",
       "      <td>2.72</td>\n",
       "      <td>No_Machine_Failure</td>\n",
       "    </tr>\n",
       "    <tr>\n",
       "      <th>2496</th>\n",
       "      <td>01-02-2022</td>\n",
       "      <td>Makino-L1-Unit1-2013</td>\n",
       "      <td>Shopfloor-L1</td>\n",
       "      <td>103.086653</td>\n",
       "      <td>5.211886</td>\n",
       "      <td>7.074653</td>\n",
       "      <td>11.9</td>\n",
       "      <td>48.3</td>\n",
       "      <td>31.5</td>\n",
       "      <td>1.106</td>\n",
       "      <td>34.708</td>\n",
       "      <td>20951.0</td>\n",
       "      <td>319.0</td>\n",
       "      <td>22.786597</td>\n",
       "      <td>2.94</td>\n",
       "      <td>No_Machine_Failure</td>\n",
       "    </tr>\n",
       "    <tr>\n",
       "      <th>2497</th>\n",
       "      <td>01-02-2022</td>\n",
       "      <td>Makino-L2-Unit1-2015</td>\n",
       "      <td>Shopfloor-L2</td>\n",
       "      <td>118.643165</td>\n",
       "      <td>5.212991</td>\n",
       "      <td>6.530049</td>\n",
       "      <td>4.5</td>\n",
       "      <td>49.9</td>\n",
       "      <td>36.2</td>\n",
       "      <td>0.288</td>\n",
       "      <td>16.828</td>\n",
       "      <td>20958.0</td>\n",
       "      <td>335.0</td>\n",
       "      <td>22.778987</td>\n",
       "      <td>NaN</td>\n",
       "      <td>No_Machine_Failure</td>\n",
       "    </tr>\n",
       "    <tr>\n",
       "      <th>2498</th>\n",
       "      <td>01-02-2022</td>\n",
       "      <td>Makino-L3-Unit1-2015</td>\n",
       "      <td>Shopfloor-L3</td>\n",
       "      <td>145.855859</td>\n",
       "      <td>5.207777</td>\n",
       "      <td>6.402655</td>\n",
       "      <td>12.2</td>\n",
       "      <td>44.5</td>\n",
       "      <td>32.1</td>\n",
       "      <td>0.995</td>\n",
       "      <td>26.498</td>\n",
       "      <td>20935.0</td>\n",
       "      <td>376.0</td>\n",
       "      <td>22.804012</td>\n",
       "      <td>2.79</td>\n",
       "      <td>No_Machine_Failure</td>\n",
       "    </tr>\n",
       "    <tr>\n",
       "      <th>2499</th>\n",
       "      <td>01-02-2022</td>\n",
       "      <td>Makino-L2-Unit1-2015</td>\n",
       "      <td>Shopfloor-L2</td>\n",
       "      <td>96.690000</td>\n",
       "      <td>5.936610</td>\n",
       "      <td>7.109355</td>\n",
       "      <td>29.8</td>\n",
       "      <td>53.2</td>\n",
       "      <td>36.2</td>\n",
       "      <td>0.840</td>\n",
       "      <td>31.580</td>\n",
       "      <td>23576.0</td>\n",
       "      <td>385.0</td>\n",
       "      <td>24.409551</td>\n",
       "      <td>3.55</td>\n",
       "      <td>Machine_Failure</td>\n",
       "    </tr>\n",
       "  </tbody>\n",
       "</table>\n",
       "</div>"
      ],
      "text/plain": [
       "            Date            Machine_ID Assembly_Line_No  \\\n",
       "2495  01-02-2022  Makino-L1-Unit1-2013     Shopfloor-L1   \n",
       "2496  01-02-2022  Makino-L1-Unit1-2013     Shopfloor-L1   \n",
       "2497  01-02-2022  Makino-L2-Unit1-2015     Shopfloor-L2   \n",
       "2498  01-02-2022  Makino-L3-Unit1-2015     Shopfloor-L3   \n",
       "2499  01-02-2022  Makino-L2-Unit1-2015     Shopfloor-L2   \n",
       "\n",
       "      Hydraulic_Pressure(bar)  Coolant_Pressure(bar)  \\\n",
       "2495               112.715506               5.220885   \n",
       "2496               103.086653               5.211886   \n",
       "2497               118.643165               5.212991   \n",
       "2498               145.855859               5.207777   \n",
       "2499                96.690000               5.936610   \n",
       "\n",
       "      Air_System_Pressure(bar)  Coolant_Temperature  \\\n",
       "2495                  6.196610                 22.3   \n",
       "2496                  7.074653                 11.9   \n",
       "2497                  6.530049                  4.5   \n",
       "2498                  6.402655                 12.2   \n",
       "2499                  7.109355                 29.8   \n",
       "\n",
       "      Hydraulic_Oil_Temperature(?C)  Spindle_Bearing_Temperature(?C)  \\\n",
       "2495                           48.8                             37.2   \n",
       "2496                           48.3                             31.5   \n",
       "2497                           49.9                             36.2   \n",
       "2498                           44.5                             32.1   \n",
       "2499                           53.2                             36.2   \n",
       "\n",
       "      Spindle_Vibration(?m)  Tool_Vibration(?m)  Spindle_Speed(RPM)  \\\n",
       "2495                  0.910              20.282             20974.0   \n",
       "2496                  1.106              34.708             20951.0   \n",
       "2497                  0.288              16.828             20958.0   \n",
       "2498                  0.995              26.498             20935.0   \n",
       "2499                  0.840              31.580             23576.0   \n",
       "\n",
       "      Voltage(volts)  Torque(Nm)  Cutting(kN)            Downtime  \n",
       "2495           282.0   22.761610         2.72  No_Machine_Failure  \n",
       "2496           319.0   22.786597         2.94  No_Machine_Failure  \n",
       "2497           335.0   22.778987          NaN  No_Machine_Failure  \n",
       "2498           376.0   22.804012         2.79  No_Machine_Failure  \n",
       "2499           385.0   24.409551         3.55     Machine_Failure  "
      ]
     },
     "execution_count": 36,
     "metadata": {},
     "output_type": "execute_result"
    }
   ],
   "source": [
    "data.tail()"
   ]
  },
  {
   "cell_type": "code",
   "execution_count": 37,
   "metadata": {},
   "outputs": [
    {
     "data": {
      "text/plain": [
       "(2500, 16)"
      ]
     },
     "execution_count": 37,
     "metadata": {},
     "output_type": "execute_result"
    }
   ],
   "source": [
    "data.shape"
   ]
  },
  {
   "cell_type": "markdown",
   "metadata": {},
   "source": [
    "Data Cleaning"
   ]
  },
  {
   "cell_type": "code",
   "execution_count": 38,
   "metadata": {},
   "outputs": [],
   "source": [
    "data2 = data.drop(\"Date\", axis = 1)"
   ]
  },
  {
   "cell_type": "code",
   "execution_count": 39,
   "metadata": {},
   "outputs": [],
   "source": [
    "data2.columns = data2.columns.str.strip()"
   ]
  },
  {
   "cell_type": "code",
   "execution_count": 40,
   "metadata": {},
   "outputs": [
    {
     "data": {
      "text/html": [
       "<div>\n",
       "<style scoped>\n",
       "    .dataframe tbody tr th:only-of-type {\n",
       "        vertical-align: middle;\n",
       "    }\n",
       "\n",
       "    .dataframe tbody tr th {\n",
       "        vertical-align: top;\n",
       "    }\n",
       "\n",
       "    .dataframe thead th {\n",
       "        text-align: right;\n",
       "    }\n",
       "</style>\n",
       "<table border=\"1\" class=\"dataframe\">\n",
       "  <thead>\n",
       "    <tr style=\"text-align: right;\">\n",
       "      <th></th>\n",
       "      <th>Machine_ID</th>\n",
       "      <th>Assembly_Line_No</th>\n",
       "      <th>Hydraulic_Pressure(bar)</th>\n",
       "      <th>Coolant_Pressure(bar)</th>\n",
       "      <th>Air_System_Pressure(bar)</th>\n",
       "      <th>Coolant_Temperature</th>\n",
       "      <th>Hydraulic_Oil_Temperature(?C)</th>\n",
       "      <th>Spindle_Bearing_Temperature(?C)</th>\n",
       "      <th>Spindle_Vibration(?m)</th>\n",
       "      <th>Tool_Vibration(?m)</th>\n",
       "      <th>Spindle_Speed(RPM)</th>\n",
       "      <th>Voltage(volts)</th>\n",
       "      <th>Torque(Nm)</th>\n",
       "      <th>Cutting(kN)</th>\n",
       "      <th>Downtime</th>\n",
       "    </tr>\n",
       "  </thead>\n",
       "  <tbody>\n",
       "    <tr>\n",
       "      <th>0</th>\n",
       "      <td>Makino-L1-Unit1-2013</td>\n",
       "      <td>Shopfloor-L1</td>\n",
       "      <td>71.04</td>\n",
       "      <td>6.933725</td>\n",
       "      <td>6.284965</td>\n",
       "      <td>25.6</td>\n",
       "      <td>46.0</td>\n",
       "      <td>33.4</td>\n",
       "      <td>1.291</td>\n",
       "      <td>26.492</td>\n",
       "      <td>25892.0</td>\n",
       "      <td>335.0</td>\n",
       "      <td>24.055326</td>\n",
       "      <td>3.58</td>\n",
       "      <td>Machine_Failure</td>\n",
       "    </tr>\n",
       "    <tr>\n",
       "      <th>1</th>\n",
       "      <td>Makino-L1-Unit1-2013</td>\n",
       "      <td>Shopfloor-L1</td>\n",
       "      <td>125.33</td>\n",
       "      <td>4.936892</td>\n",
       "      <td>6.196733</td>\n",
       "      <td>35.3</td>\n",
       "      <td>47.4</td>\n",
       "      <td>34.6</td>\n",
       "      <td>1.382</td>\n",
       "      <td>25.274</td>\n",
       "      <td>19856.0</td>\n",
       "      <td>368.0</td>\n",
       "      <td>14.202890</td>\n",
       "      <td>2.68</td>\n",
       "      <td>Machine_Failure</td>\n",
       "    </tr>\n",
       "    <tr>\n",
       "      <th>2</th>\n",
       "      <td>Makino-L3-Unit1-2015</td>\n",
       "      <td>Shopfloor-L3</td>\n",
       "      <td>71.12</td>\n",
       "      <td>6.839413</td>\n",
       "      <td>6.655448</td>\n",
       "      <td>13.1</td>\n",
       "      <td>40.7</td>\n",
       "      <td>33.0</td>\n",
       "      <td>1.319</td>\n",
       "      <td>30.608</td>\n",
       "      <td>19851.0</td>\n",
       "      <td>325.0</td>\n",
       "      <td>24.049267</td>\n",
       "      <td>3.55</td>\n",
       "      <td>Machine_Failure</td>\n",
       "    </tr>\n",
       "    <tr>\n",
       "      <th>3</th>\n",
       "      <td>Makino-L2-Unit1-2015</td>\n",
       "      <td>Shopfloor-L2</td>\n",
       "      <td>139.34</td>\n",
       "      <td>4.574382</td>\n",
       "      <td>6.560394</td>\n",
       "      <td>24.4</td>\n",
       "      <td>44.2</td>\n",
       "      <td>40.6</td>\n",
       "      <td>0.618</td>\n",
       "      <td>30.791</td>\n",
       "      <td>18461.0</td>\n",
       "      <td>360.0</td>\n",
       "      <td>25.860029</td>\n",
       "      <td>3.55</td>\n",
       "      <td>Machine_Failure</td>\n",
       "    </tr>\n",
       "    <tr>\n",
       "      <th>4</th>\n",
       "      <td>Makino-L1-Unit1-2013</td>\n",
       "      <td>Shopfloor-L1</td>\n",
       "      <td>60.51</td>\n",
       "      <td>6.893182</td>\n",
       "      <td>6.141238</td>\n",
       "      <td>4.1</td>\n",
       "      <td>47.3</td>\n",
       "      <td>31.4</td>\n",
       "      <td>0.983</td>\n",
       "      <td>25.516</td>\n",
       "      <td>26526.0</td>\n",
       "      <td>354.0</td>\n",
       "      <td>25.515874</td>\n",
       "      <td>3.55</td>\n",
       "      <td>Machine_Failure</td>\n",
       "    </tr>\n",
       "  </tbody>\n",
       "</table>\n",
       "</div>"
      ],
      "text/plain": [
       "             Machine_ID Assembly_Line_No  Hydraulic_Pressure(bar)  \\\n",
       "0  Makino-L1-Unit1-2013     Shopfloor-L1                    71.04   \n",
       "1  Makino-L1-Unit1-2013     Shopfloor-L1                   125.33   \n",
       "2  Makino-L3-Unit1-2015     Shopfloor-L3                    71.12   \n",
       "3  Makino-L2-Unit1-2015     Shopfloor-L2                   139.34   \n",
       "4  Makino-L1-Unit1-2013     Shopfloor-L1                    60.51   \n",
       "\n",
       "   Coolant_Pressure(bar)  Air_System_Pressure(bar)  Coolant_Temperature  \\\n",
       "0               6.933725                  6.284965                 25.6   \n",
       "1               4.936892                  6.196733                 35.3   \n",
       "2               6.839413                  6.655448                 13.1   \n",
       "3               4.574382                  6.560394                 24.4   \n",
       "4               6.893182                  6.141238                  4.1   \n",
       "\n",
       "   Hydraulic_Oil_Temperature(?C)  Spindle_Bearing_Temperature(?C)  \\\n",
       "0                           46.0                             33.4   \n",
       "1                           47.4                             34.6   \n",
       "2                           40.7                             33.0   \n",
       "3                           44.2                             40.6   \n",
       "4                           47.3                             31.4   \n",
       "\n",
       "   Spindle_Vibration(?m)  Tool_Vibration(?m)  Spindle_Speed(RPM)  \\\n",
       "0                  1.291              26.492             25892.0   \n",
       "1                  1.382              25.274             19856.0   \n",
       "2                  1.319              30.608             19851.0   \n",
       "3                  0.618              30.791             18461.0   \n",
       "4                  0.983              25.516             26526.0   \n",
       "\n",
       "   Voltage(volts)  Torque(Nm)  Cutting(kN)         Downtime  \n",
       "0           335.0   24.055326         3.58  Machine_Failure  \n",
       "1           368.0   14.202890         2.68  Machine_Failure  \n",
       "2           325.0   24.049267         3.55  Machine_Failure  \n",
       "3           360.0   25.860029         3.55  Machine_Failure  \n",
       "4           354.0   25.515874         3.55  Machine_Failure  "
      ]
     },
     "execution_count": 40,
     "metadata": {},
     "output_type": "execute_result"
    }
   ],
   "source": [
    "data2.head()"
   ]
  },
  {
   "cell_type": "code",
   "execution_count": 41,
   "metadata": {},
   "outputs": [
    {
     "name": "stdout",
     "output_type": "stream",
     "text": [
      "['Makino-L1-Unit1-2013' 'Makino-L3-Unit1-2015' 'Makino-L2-Unit1-2015']\n",
      "['Shopfloor-L1' 'Shopfloor-L3' 'Shopfloor-L2']\n",
      "['Machine_Failure' 'No_Machine_Failure']\n"
     ]
    }
   ],
   "source": [
    "print(data2[\"Machine_ID\"].unique())\n",
    "print(data2[\"Assembly_Line_No\"].unique())\n",
    "print(data2[\"Downtime\"].unique())"
   ]
  },
  {
   "cell_type": "code",
   "execution_count": 42,
   "metadata": {},
   "outputs": [
    {
     "name": "stdout",
     "output_type": "stream",
     "text": [
      "<class 'pandas.core.frame.DataFrame'>\n",
      "RangeIndex: 2500 entries, 0 to 2499\n",
      "Data columns (total 15 columns):\n",
      " #   Column                           Non-Null Count  Dtype  \n",
      "---  ------                           --------------  -----  \n",
      " 0   Machine_ID                       2500 non-null   object \n",
      " 1   Assembly_Line_No                 2500 non-null   object \n",
      " 2   Hydraulic_Pressure(bar)          2490 non-null   float64\n",
      " 3   Coolant_Pressure(bar)            2481 non-null   float64\n",
      " 4   Air_System_Pressure(bar)         2483 non-null   float64\n",
      " 5   Coolant_Temperature              2488 non-null   float64\n",
      " 6   Hydraulic_Oil_Temperature(?C)    2484 non-null   float64\n",
      " 7   Spindle_Bearing_Temperature(?C)  2493 non-null   float64\n",
      " 8   Spindle_Vibration(?m)            2489 non-null   float64\n",
      " 9   Tool_Vibration(?m)               2489 non-null   float64\n",
      " 10  Spindle_Speed(RPM)               2494 non-null   float64\n",
      " 11  Voltage(volts)                   2494 non-null   float64\n",
      " 12  Torque(Nm)                       2479 non-null   float64\n",
      " 13  Cutting(kN)                      2493 non-null   float64\n",
      " 14  Downtime                         2500 non-null   object \n",
      "dtypes: float64(12), object(3)\n",
      "memory usage: 293.1+ KB\n"
     ]
    }
   ],
   "source": [
    "data2.info()"
   ]
  },
  {
   "cell_type": "code",
   "execution_count": 43,
   "metadata": {},
   "outputs": [
    {
     "data": {
      "text/plain": [
       "Machine_ID                          0\n",
       "Assembly_Line_No                    0\n",
       "Hydraulic_Pressure(bar)            10\n",
       "Coolant_Pressure(bar)              19\n",
       "Air_System_Pressure(bar)           17\n",
       "Coolant_Temperature                12\n",
       "Hydraulic_Oil_Temperature(?C)      16\n",
       "Spindle_Bearing_Temperature(?C)     7\n",
       "Spindle_Vibration(?m)              11\n",
       "Tool_Vibration(?m)                 11\n",
       "Spindle_Speed(RPM)                  6\n",
       "Voltage(volts)                      6\n",
       "Torque(Nm)                         21\n",
       "Cutting(kN)                         7\n",
       "Downtime                            0\n",
       "dtype: int64"
      ]
     },
     "execution_count": 43,
     "metadata": {},
     "output_type": "execute_result"
    }
   ],
   "source": [
    "null_count = data2.isnull().sum()\n",
    "null_count"
   ]
  },
  {
   "cell_type": "markdown",
   "metadata": {},
   "source": [
    "Data Visualization"
   ]
  },
  {
   "cell_type": "code",
   "execution_count": 44,
   "metadata": {},
   "outputs": [
    {
     "data": {
      "text/plain": [
       "['Hydraulic_Pressure(bar)',\n",
       " 'Coolant_Pressure(bar)',\n",
       " 'Air_System_Pressure(bar)',\n",
       " 'Coolant_Temperature',\n",
       " 'Hydraulic_Oil_Temperature(?C)',\n",
       " 'Spindle_Bearing_Temperature(?C)',\n",
       " 'Spindle_Vibration(?m)',\n",
       " 'Tool_Vibration(?m)',\n",
       " 'Spindle_Speed(RPM)',\n",
       " 'Voltage(volts)',\n",
       " 'Torque(Nm)',\n",
       " 'Cutting(kN)']"
      ]
     },
     "execution_count": 44,
     "metadata": {},
     "output_type": "execute_result"
    }
   ],
   "source": [
    "numerical_list = [num for num in data2.columns if data2[num].dtype == 'float64']\n",
    "numerical_list"
   ]
  },
  {
   "cell_type": "code",
   "execution_count": 45,
   "metadata": {},
   "outputs": [
    {
     "data": {
      "text/plain": [
       "Text(0.5, 1.0, 'Correlation Heatmap')"
      ]
     },
     "execution_count": 45,
     "metadata": {},
     "output_type": "execute_result"
    },
    {
     "data": {
      "image/png": "[encoded data removed]",
      "text/plain": [
       "<Figure size 1600x800 with 2 Axes>"
      ]
     },
     "metadata": {},
     "output_type": "display_data"
    }
   ],
   "source": [
    "import seaborn as sns \n",
    "import matplotlib.pyplot as plt\n",
    "\n",
    "corr_matrix = data2[numerical_list].corr()\n",
    "\n",
    "plt.figure(figsize = (16, 8))\n",
    "sns.heatmap(corr_matrix, annot = True, cmap = 'plasma', linewidths = 0.5)\n",
    "plt.title(\"Correlation Heatmap\")\n"
   ]
  },
  {
   "cell_type": "code",
   "execution_count": 46,
   "metadata": {},
   "outputs": [],
   "source": [
    "y = data2[\"Downtime\"]"
   ]
  },
  {
   "cell_type": "code",
   "execution_count": 47,
   "metadata": {},
   "outputs": [
    {
     "data": {
      "text/plain": [
       "0       Machine_Failure\n",
       "1       Machine_Failure\n",
       "2       Machine_Failure\n",
       "3       Machine_Failure\n",
       "4       Machine_Failure\n",
       "5       Machine_Failure\n",
       "6       Machine_Failure\n",
       "7    No_Machine_Failure\n",
       "8    No_Machine_Failure\n",
       "9       Machine_Failure\n",
       "Name: Downtime, dtype: object"
      ]
     },
     "execution_count": 47,
     "metadata": {},
     "output_type": "execute_result"
    }
   ],
   "source": [
    "y.head(10)"
   ]
  },
  {
   "cell_type": "code",
   "execution_count": 48,
   "metadata": {},
   "outputs": [],
   "source": [
    "X = data2.drop(\"Downtime\", axis = 1)"
   ]
  },
  {
   "cell_type": "code",
   "execution_count": 49,
   "metadata": {},
   "outputs": [
    {
     "data": {
      "text/html": [
       "<div>\n",
       "<style scoped>\n",
       "    .dataframe tbody tr th:only-of-type {\n",
       "        vertical-align: middle;\n",
       "    }\n",
       "\n",
       "    .dataframe tbody tr th {\n",
       "        vertical-align: top;\n",
       "    }\n",
       "\n",
       "    .dataframe thead th {\n",
       "        text-align: right;\n",
       "    }\n",
       "</style>\n",
       "<table border=\"1\" class=\"dataframe\">\n",
       "  <thead>\n",
       "    <tr style=\"text-align: right;\">\n",
       "      <th></th>\n",
       "      <th>Machine_ID</th>\n",
       "      <th>Assembly_Line_No</th>\n",
       "      <th>Hydraulic_Pressure(bar)</th>\n",
       "      <th>Coolant_Pressure(bar)</th>\n",
       "      <th>Air_System_Pressure(bar)</th>\n",
       "      <th>Coolant_Temperature</th>\n",
       "      <th>Hydraulic_Oil_Temperature(?C)</th>\n",
       "      <th>Spindle_Bearing_Temperature(?C)</th>\n",
       "      <th>Spindle_Vibration(?m)</th>\n",
       "      <th>Tool_Vibration(?m)</th>\n",
       "      <th>Spindle_Speed(RPM)</th>\n",
       "      <th>Voltage(volts)</th>\n",
       "      <th>Torque(Nm)</th>\n",
       "      <th>Cutting(kN)</th>\n",
       "    </tr>\n",
       "  </thead>\n",
       "  <tbody>\n",
       "    <tr>\n",
       "      <th>0</th>\n",
       "      <td>Makino-L1-Unit1-2013</td>\n",
       "      <td>Shopfloor-L1</td>\n",
       "      <td>71.040000</td>\n",
       "      <td>6.933725</td>\n",
       "      <td>6.284965</td>\n",
       "      <td>25.6</td>\n",
       "      <td>46.0</td>\n",
       "      <td>33.4</td>\n",
       "      <td>1.291</td>\n",
       "      <td>26.492</td>\n",
       "      <td>25892.0</td>\n",
       "      <td>335.0</td>\n",
       "      <td>24.055326</td>\n",
       "      <td>3.58</td>\n",
       "    </tr>\n",
       "    <tr>\n",
       "      <th>1</th>\n",
       "      <td>Makino-L1-Unit1-2013</td>\n",
       "      <td>Shopfloor-L1</td>\n",
       "      <td>125.330000</td>\n",
       "      <td>4.936892</td>\n",
       "      <td>6.196733</td>\n",
       "      <td>35.3</td>\n",
       "      <td>47.4</td>\n",
       "      <td>34.6</td>\n",
       "      <td>1.382</td>\n",
       "      <td>25.274</td>\n",
       "      <td>19856.0</td>\n",
       "      <td>368.0</td>\n",
       "      <td>14.202890</td>\n",
       "      <td>2.68</td>\n",
       "    </tr>\n",
       "    <tr>\n",
       "      <th>2</th>\n",
       "      <td>Makino-L3-Unit1-2015</td>\n",
       "      <td>Shopfloor-L3</td>\n",
       "      <td>71.120000</td>\n",
       "      <td>6.839413</td>\n",
       "      <td>6.655448</td>\n",
       "      <td>13.1</td>\n",
       "      <td>40.7</td>\n",
       "      <td>33.0</td>\n",
       "      <td>1.319</td>\n",
       "      <td>30.608</td>\n",
       "      <td>19851.0</td>\n",
       "      <td>325.0</td>\n",
       "      <td>24.049267</td>\n",
       "      <td>3.55</td>\n",
       "    </tr>\n",
       "    <tr>\n",
       "      <th>3</th>\n",
       "      <td>Makino-L2-Unit1-2015</td>\n",
       "      <td>Shopfloor-L2</td>\n",
       "      <td>139.340000</td>\n",
       "      <td>4.574382</td>\n",
       "      <td>6.560394</td>\n",
       "      <td>24.4</td>\n",
       "      <td>44.2</td>\n",
       "      <td>40.6</td>\n",
       "      <td>0.618</td>\n",
       "      <td>30.791</td>\n",
       "      <td>18461.0</td>\n",
       "      <td>360.0</td>\n",
       "      <td>25.860029</td>\n",
       "      <td>3.55</td>\n",
       "    </tr>\n",
       "    <tr>\n",
       "      <th>4</th>\n",
       "      <td>Makino-L1-Unit1-2013</td>\n",
       "      <td>Shopfloor-L1</td>\n",
       "      <td>60.510000</td>\n",
       "      <td>6.893182</td>\n",
       "      <td>6.141238</td>\n",
       "      <td>4.1</td>\n",
       "      <td>47.3</td>\n",
       "      <td>31.4</td>\n",
       "      <td>0.983</td>\n",
       "      <td>25.516</td>\n",
       "      <td>26526.0</td>\n",
       "      <td>354.0</td>\n",
       "      <td>25.515874</td>\n",
       "      <td>3.55</td>\n",
       "    </tr>\n",
       "    <tr>\n",
       "      <th>5</th>\n",
       "      <td>Makino-L2-Unit1-2015</td>\n",
       "      <td>Shopfloor-L2</td>\n",
       "      <td>137.370000</td>\n",
       "      <td>5.918357</td>\n",
       "      <td>7.228066</td>\n",
       "      <td>5.4</td>\n",
       "      <td>48.0</td>\n",
       "      <td>32.7</td>\n",
       "      <td>0.903</td>\n",
       "      <td>25.597</td>\n",
       "      <td>27613.0</td>\n",
       "      <td>319.0</td>\n",
       "      <td>25.521330</td>\n",
       "      <td>3.55</td>\n",
       "    </tr>\n",
       "    <tr>\n",
       "      <th>6</th>\n",
       "      <td>Makino-L1-Unit1-2013</td>\n",
       "      <td>Shopfloor-L1</td>\n",
       "      <td>135.930000</td>\n",
       "      <td>6.560332</td>\n",
       "      <td>6.710999</td>\n",
       "      <td>19.3</td>\n",
       "      <td>48.8</td>\n",
       "      <td>37.4</td>\n",
       "      <td>1.240</td>\n",
       "      <td>32.138</td>\n",
       "      <td>26605.0</td>\n",
       "      <td>438.0</td>\n",
       "      <td>25.454652</td>\n",
       "      <td>3.58</td>\n",
       "    </tr>\n",
       "    <tr>\n",
       "      <th>7</th>\n",
       "      <td>Makino-L3-Unit1-2015</td>\n",
       "      <td>Shopfloor-L3</td>\n",
       "      <td>127.715164</td>\n",
       "      <td>5.060709</td>\n",
       "      <td>6.002229</td>\n",
       "      <td>20.8</td>\n",
       "      <td>45.8</td>\n",
       "      <td>37.5</td>\n",
       "      <td>1.125</td>\n",
       "      <td>19.823</td>\n",
       "      <td>14266.0</td>\n",
       "      <td>334.0</td>\n",
       "      <td>34.973004</td>\n",
       "      <td>2.02</td>\n",
       "    </tr>\n",
       "    <tr>\n",
       "      <th>8</th>\n",
       "      <td>Makino-L3-Unit1-2015</td>\n",
       "      <td>Shopfloor-L3</td>\n",
       "      <td>123.618456</td>\n",
       "      <td>5.074380</td>\n",
       "      <td>6.039524</td>\n",
       "      <td>4.5</td>\n",
       "      <td>51.5</td>\n",
       "      <td>32.1</td>\n",
       "      <td>0.690</td>\n",
       "      <td>16.972</td>\n",
       "      <td>20413.0</td>\n",
       "      <td>278.0</td>\n",
       "      <td>32.519299</td>\n",
       "      <td>2.88</td>\n",
       "    </tr>\n",
       "    <tr>\n",
       "      <th>9</th>\n",
       "      <td>Makino-L3-Unit1-2015</td>\n",
       "      <td>Shopfloor-L3</td>\n",
       "      <td>134.020000</td>\n",
       "      <td>5.567857</td>\n",
       "      <td>6.733096</td>\n",
       "      <td>14.0</td>\n",
       "      <td>47.9</td>\n",
       "      <td>35.2</td>\n",
       "      <td>0.748</td>\n",
       "      <td>36.601</td>\n",
       "      <td>20504.0</td>\n",
       "      <td>379.0</td>\n",
       "      <td>25.618567</td>\n",
       "      <td>3.93</td>\n",
       "    </tr>\n",
       "  </tbody>\n",
       "</table>\n",
       "</div>"
      ],
      "text/plain": [
       "             Machine_ID Assembly_Line_No  Hydraulic_Pressure(bar)  \\\n",
       "0  Makino-L1-Unit1-2013     Shopfloor-L1                71.040000   \n",
       "1  Makino-L1-Unit1-2013     Shopfloor-L1               125.330000   \n",
       "2  Makino-L3-Unit1-2015     Shopfloor-L3                71.120000   \n",
       "3  Makino-L2-Unit1-2015     Shopfloor-L2               139.340000   \n",
       "4  Makino-L1-Unit1-2013     Shopfloor-L1                60.510000   \n",
       "5  Makino-L2-Unit1-2015     Shopfloor-L2               137.370000   \n",
       "6  Makino-L1-Unit1-2013     Shopfloor-L1               135.930000   \n",
       "7  Makino-L3-Unit1-2015     Shopfloor-L3               127.715164   \n",
       "8  Makino-L3-Unit1-2015     Shopfloor-L3               123.618456   \n",
       "9  Makino-L3-Unit1-2015     Shopfloor-L3               134.020000   \n",
       "\n",
       "   Coolant_Pressure(bar)  Air_System_Pressure(bar)  Coolant_Temperature  \\\n",
       "0               6.933725                  6.284965                 25.6   \n",
       "1               4.936892                  6.196733                 35.3   \n",
       "2               6.839413                  6.655448                 13.1   \n",
       "3               4.574382                  6.560394                 24.4   \n",
       "4               6.893182                  6.141238                  4.1   \n",
       "5               5.918357                  7.228066                  5.4   \n",
       "6               6.560332                  6.710999                 19.3   \n",
       "7               5.060709                  6.002229                 20.8   \n",
       "8               5.074380                  6.039524                  4.5   \n",
       "9               5.567857                  6.733096                 14.0   \n",
       "\n",
       "   Hydraulic_Oil_Temperature(?C)  Spindle_Bearing_Temperature(?C)  \\\n",
       "0                           46.0                             33.4   \n",
       "1                           47.4                             34.6   \n",
       "2                           40.7                             33.0   \n",
       "3                           44.2                             40.6   \n",
       "4                           47.3                             31.4   \n",
       "5                           48.0                             32.7   \n",
       "6                           48.8                             37.4   \n",
       "7                           45.8                             37.5   \n",
       "8                           51.5                             32.1   \n",
       "9                           47.9                             35.2   \n",
       "\n",
       "   Spindle_Vibration(?m)  Tool_Vibration(?m)  Spindle_Speed(RPM)  \\\n",
       "0                  1.291              26.492             25892.0   \n",
       "1                  1.382              25.274             19856.0   \n",
       "2                  1.319              30.608             19851.0   \n",
       "3                  0.618              30.791             18461.0   \n",
       "4                  0.983              25.516             26526.0   \n",
       "5                  0.903              25.597             27613.0   \n",
       "6                  1.240              32.138             26605.0   \n",
       "7                  1.125              19.823             14266.0   \n",
       "8                  0.690              16.972             20413.0   \n",
       "9                  0.748              36.601             20504.0   \n",
       "\n",
       "   Voltage(volts)  Torque(Nm)  Cutting(kN)  \n",
       "0           335.0   24.055326         3.58  \n",
       "1           368.0   14.202890         2.68  \n",
       "2           325.0   24.049267         3.55  \n",
       "3           360.0   25.860029         3.55  \n",
       "4           354.0   25.515874         3.55  \n",
       "5           319.0   25.521330         3.55  \n",
       "6           438.0   25.454652         3.58  \n",
       "7           334.0   34.973004         2.02  \n",
       "8           278.0   32.519299         2.88  \n",
       "9           379.0   25.618567         3.93  "
      ]
     },
     "execution_count": 49,
     "metadata": {},
     "output_type": "execute_result"
    }
   ],
   "source": [
    "X.head(10)"
   ]
  },
  {
   "cell_type": "code",
   "execution_count": 50,
   "metadata": {},
   "outputs": [
    {
     "data": {
      "text/plain": [
       "['Machine_ID', 'Assembly_Line_No']"
      ]
     },
     "execution_count": 50,
     "metadata": {},
     "output_type": "execute_result"
    }
   ],
   "source": [
    "categorical_list = [cat for cat in X.columns if X[cat].dtype == 'object']\n",
    "categorical_list"
   ]
  },
  {
   "cell_type": "code",
   "execution_count": 51,
   "metadata": {},
   "outputs": [],
   "source": [
    "from sklearn.model_selection import train_test_split\n",
    "\n",
    "X_train, X_test, y_train, y_test = train_test_split(X, y, test_size = 0.2, random_state = 42)"
   ]
  },
  {
   "cell_type": "markdown",
   "metadata": {},
   "source": [
    "Preprocessing Pipeline"
   ]
  },
  {
   "cell_type": "code",
   "execution_count": 52,
   "metadata": {},
   "outputs": [],
   "source": [
    "from sklearn.preprocessing import LabelEncoder\n",
    "\n",
    "label_encoder = LabelEncoder()\n",
    "y_train_encoded = label_encoder.fit_transform(y_train)\n",
    "y_test_encoded = label_encoder.transform(y_test)"
   ]
  },
  {
   "cell_type": "code",
   "execution_count": 53,
   "metadata": {},
   "outputs": [],
   "source": [
    "from sklearn.pipeline import Pipeline\n",
    "from sklearn.impute import SimpleImputer\n",
    "from sklearn.preprocessing import StandardScaler, OrdinalEncoder\n",
    "from sklearn.compose import ColumnTransformer\n",
    "\n",
    "numerical_pipeline = Pipeline([('imputer', SimpleImputer(strategy = 'mean')), ('scaler', StandardScaler())])\n",
    "categorical_pipeline = Pipeline([('ordinal', OrdinalEncoder())])\n",
    "preprocessor = ColumnTransformer([('num', numerical_pipeline, numerical_list), ('cat', categorical_pipeline, categorical_list)])"
   ]
  },
  {
   "cell_type": "markdown",
   "metadata": {},
   "source": [
    "Logistic Regression"
   ]
  },
  {
   "cell_type": "code",
   "execution_count": 54,
   "metadata": {},
   "outputs": [
    {
     "name": "stdout",
     "output_type": "stream",
     "text": [
      "Validation score:  0.857\n",
      "Test accuracy:  0.842\n"
     ]
    }
   ],
   "source": [
    "from sklearn.linear_model import LogisticRegression\n",
    "from sklearn.metrics import accuracy_score\n",
    "from sklearn.model_selection import cross_val_score\n",
    "\n",
    "logreg_pipeline = Pipeline([('preprocessor', preprocessor), ('log_reg', LogisticRegression())])\n",
    "logreg_cv  = cross_val_score(logreg_pipeline, X_train, y_train_encoded, cv = 5)\n",
    "print(\"Validation score: \", logreg_cv.mean())\n",
    "logreg_pipeline.fit(X_train, y_train_encoded)\n",
    "logreg_pred = logreg_pipeline.predict(X_test)\n",
    "logreg_accuracy = accuracy_score(logreg_pred, y_test_encoded)\n",
    "print(\"Test accuracy: \", logreg_accuracy)"
   ]
  },
  {
   "cell_type": "markdown",
   "metadata": {},
   "source": [
    "Decision Tree Classifier"
   ]
  },
  {
   "cell_type": "code",
   "execution_count": 55,
   "metadata": {},
   "outputs": [
    {
     "name": "stdout",
     "output_type": "stream",
     "text": [
      "Validation score:  0.9630000000000001\n",
      "Test accuracy:  0.962\n"
     ]
    }
   ],
   "source": [
    "from sklearn.tree import DecisionTreeClassifier\n",
    "\n",
    "dec_tree_pipeline = Pipeline([('preprocessor', preprocessor), ('decision_tree', DecisionTreeClassifier())])\n",
    "dec_tree_cv = cross_val_score(dec_tree_pipeline, X_train, y_train_encoded, cv = 5)\n",
    "print(\"Validation score: \", dec_tree_cv.mean())\n",
    "dec_tree_pipeline.fit(X_train, y_train_encoded)\n",
    "dec_tree_pred = dec_tree_pipeline.predict(X_test)\n",
    "dec_tree_accuracy = accuracy_score(dec_tree_pred, y_test_encoded)\n",
    "print(\"Test accuracy: \", dec_tree_accuracy)"
   ]
  },
  {
   "cell_type": "markdown",
   "metadata": {},
   "source": [
    "Random Forest Classifier"
   ]
  },
  {
   "cell_type": "code",
   "execution_count": 56,
   "metadata": {},
   "outputs": [
    {
     "name": "stdout",
     "output_type": "stream",
     "text": [
      "Validation score:  0.982\n",
      "Test accuracy:  0.986\n"
     ]
    }
   ],
   "source": [
    "from sklearn.ensemble import RandomForestClassifier\n",
    "\n",
    "random_forest_pipeline = Pipeline([('preprocessor', preprocessor), ('random_forest', RandomForestClassifier(n_jobs = -1))])\n",
    "random_forest_cv = cross_val_score(random_forest_pipeline, X_train, y_train_encoded, cv = 5)\n",
    "print(\"Validation score: \", random_forest_cv.mean())\n",
    "random_forest_pipeline.fit(X_train, y_train_encoded)\n",
    "random_forest_pred = random_forest_pipeline.predict(X_test)\n",
    "random_forest_accuracy = accuracy_score(random_forest_pred, y_test_encoded)\n",
    "print(\"Test accuracy: \", random_forest_accuracy)"
   ]
  },
  {
   "cell_type": "markdown",
   "metadata": {},
   "source": [
    "K-Nearest Neighbors"
   ]
  },
  {
   "cell_type": "code",
   "execution_count": 57,
   "metadata": {},
   "outputs": [
    {
     "name": "stdout",
     "output_type": "stream",
     "text": [
      "Validation score:  0.865\n",
      "Test accuracy:  0.868\n"
     ]
    }
   ],
   "source": [
    "from sklearn.neighbors import KNeighborsClassifier\n",
    "\n",
    "knn_pipeline = Pipeline([('preprocessor', preprocessor), ('knn', KNeighborsClassifier())])\n",
    "knn_cv = cross_val_score(knn_pipeline, X_train, y_train_encoded, cv = 5)\n",
    "print(\"Validation score: \", knn_cv.mean())\n",
    "knn_pipeline.fit(X_train, y_train_encoded)\n",
    "knn_pred = knn_pipeline.predict(X_test)\n",
    "knn_accuracy = accuracy_score(knn_pred, y_test_encoded)\n",
    "print(\"Test accuracy: \", knn_accuracy)"
   ]
  },
  {
   "cell_type": "markdown",
   "metadata": {},
   "source": [
    "XGBoost"
   ]
  },
  {
   "cell_type": "code",
   "execution_count": 58,
   "metadata": {},
   "outputs": [
    {
     "name": "stdout",
     "output_type": "stream",
     "text": [
      "Validation score:  0.9875\n",
      "Test accuracy:  0.982\n"
     ]
    }
   ],
   "source": [
    "import xgboost as xgb\n",
    "\n",
    "xgb_pipeline = Pipeline([('preprocessor', preprocessor), ('xgboost', xgb.XGBClassifier(objective = \"binary:logistic\", gpu_id = 0, random_state  = 42))])\n",
    "xgb_cv = cross_val_score(xgb_pipeline, X_train, y_train_encoded, cv = 5)\n",
    "print(\"Validation score: \", xgb_cv.mean())\n",
    "xgb_pipeline.fit(X_train, y_train_encoded)\n",
    "xgb_pred = xgb_pipeline.predict(X_test)\n",
    "xgb_accuracy = accuracy_score(xgb_pred, y_test_encoded)\n",
    "print(\"Test accuracy: \", xgb_accuracy)"
   ]
  },
  {
   "cell_type": "markdown",
   "metadata": {},
   "source": [
    "Gradient Boosting Classifier"
   ]
  },
  {
   "cell_type": "code",
   "execution_count": 59,
   "metadata": {},
   "outputs": [
    {
     "name": "stdout",
     "output_type": "stream",
     "text": [
      "Validation score:  0.9889999999999999\n",
      "Test accuracy:  0.992\n"
     ]
    }
   ],
   "source": [
    "from sklearn.ensemble import GradientBoostingClassifier\n",
    "\n",
    "grad_boost_pipeline = Pipeline([('preprocessor', preprocessor), ('gradientboost', GradientBoostingClassifier(random_state = 42))])\n",
    "grad_boost_cv = cross_val_score(grad_boost_pipeline, X_train, y_train_encoded, cv = 5)\n",
    "print(\"Validation score: \", grad_boost_cv.mean())\n",
    "grad_boost_pipeline.fit(X_train, y_train_encoded)\n",
    "grad_boost_pred = grad_boost_pipeline.predict(X_test)\n",
    "grad_boost_accuracy = accuracy_score(grad_boost_pred, y_test_encoded)\n",
    "print(\"Test accuracy: \", grad_boost_accuracy)"
   ]
  },
  {
   "cell_type": "markdown",
   "metadata": {},
   "source": [
    "Support Vector Machines (SVM)"
   ]
  },
  {
   "cell_type": "code",
   "execution_count": 60,
   "metadata": {},
   "outputs": [
    {
     "name": "stdout",
     "output_type": "stream",
     "text": [
      "Validation score:  0.8699999999999999\n",
      "Test accuracy:  0.858\n"
     ]
    }
   ],
   "source": [
    "from sklearn.svm import SVC\n",
    "\n",
    "svm_pipeline = Pipeline([('preprocessor', preprocessor), ('svm', SVC(probability = True, random_state = 42))])\n",
    "svm_cv = cross_val_score(svm_pipeline, X_train, y_train_encoded, cv = 5)\n",
    "print(\"Validation score: \", svm_cv.mean())\n",
    "svm_pipeline.fit(X_train, y_train_encoded)\n",
    "svm_pred = svm_pipeline.predict(X_test)\n",
    "svm_accuracy = accuracy_score(svm_pred, y_test_encoded)\n",
    "print(\"Test accuracy: \", svm_accuracy)"
   ]
  },
  {
   "cell_type": "markdown",
   "metadata": {},
   "source": [
    "Model Selection & Model Training"
   ]
  },
  {
   "cell_type": "markdown",
   "metadata": {},
   "source": [
    "Overall Accuracy"
   ]
  },
  {
   "cell_type": "code",
   "execution_count": 61,
   "metadata": {},
   "outputs": [
    {
     "name": "stdout",
     "output_type": "stream",
     "text": [
      "Overall Accuracy:  98.4 %\n"
     ]
    }
   ],
   "source": [
    "from sklearn.ensemble import VotingClassifier\n",
    "\n",
    "voting_classifier = VotingClassifier(estimators = [('logistic_regression', logreg_pipeline), \n",
    "                                            ('decision_tree', dec_tree_pipeline), \n",
    "                                            ('random_forest', random_forest_pipeline),\n",
    "                                            ('knn', knn_pipeline),\n",
    "                                            ('gradient_boost', grad_boost_pipeline),\n",
    "                                            ('svm', svm_pipeline),\n",
    "                                            ('xgb', xgb_pipeline)\n",
    "                                            ],\n",
    "                                            voting = 'soft', n_jobs = -1)\n",
    "\n",
    "voting_classifier.fit(X_train, y_train_encoded)\n",
    "voting_classifier_pred = voting_classifier.predict(X_test)\n",
    "voting_classifier_accuracy = accuracy_score(voting_classifier_pred, y_test_encoded)\n",
    "print(\"Overall Accuracy: \", round(voting_classifier_accuracy * 100, 2), \"%\")"
   ]
  },
  {
   "cell_type": "code",
   "execution_count": 62,
   "metadata": {},
   "outputs": [
    {
     "name": "stdout",
     "output_type": "stream",
     "text": [
      "Weak Learning Models Ensemble Validation Accuracy:  88.1 %\n",
      "Weak Learning Models Ensemble Accuracy:  86.6 %\n"
     ]
    }
   ],
   "source": [
    "vote_clf_wl = VotingClassifier(estimators = [('logistic_regression', logreg_pipeline), \n",
    "                                            ('knn', knn_pipeline),\n",
    "                                            ('svm', svm_pipeline),\n",
    "                                            ],\n",
    "                                            voting = 'soft', n_jobs = -1)\n",
    "vote_clf_wl_cv = cross_val_score(vote_clf_wl, X_train, y_train_encoded, cv = 5)\n",
    "print(\"Weak Learning Models Ensemble Validation Accuracy: \", round(vote_clf_wl_cv.mean() * 100, 2), \"%\")\n",
    "vote_clf_wl.fit(X_train, y_train_encoded)\n",
    "vote_clf_wl_pred = vote_clf_wl.predict(X_test)\n",
    "vote_clf_wl_accuracy = accuracy_score(vote_clf_wl_pred, y_test_encoded)\n",
    "print(\"Weak Learning Models Ensemble Accuracy: \", round(vote_clf_wl_accuracy * 100, 2), \"%\")"
   ]
  },
  {
   "cell_type": "code",
   "execution_count": 67,
   "metadata": {},
   "outputs": [
    {
     "name": "stdout",
     "output_type": "stream",
     "text": [
      "Strong Learning Models Ensemble Validation Accuracy:  98.75 %\n",
      "Strong Learning Models Ensemble Accuracy:  99.2 %\n"
     ]
    }
   ],
   "source": [
    "vote_clf_sl = VotingClassifier(estimators = [('decision_tree', dec_tree_pipeline), \n",
    "                                            ('random_forest', random_forest_pipeline),\n",
    "                                            ('gradient_boost', grad_boost_pipeline),\n",
    "                                            ('xgb', xgb_pipeline)\n",
    "                                            ],\n",
    "                                            voting = 'soft', n_jobs = -1)\n",
    "vote_clf_sl_cv = cross_val_score(vote_clf_sl, X_train, y_train_encoded, cv = 5)\n",
    "print(\"Strong Learning Models Ensemble Validation Accuracy: \", round(vote_clf_sl_cv.mean() * 100, 2), \"%\")\n",
    "vote_clf_sl.fit(X_train, y_train_encoded)\n",
    "vote_clf_sl_pred = vote_clf_sl.predict(X_test)\n",
    "vote_clf_sl_accuracy = accuracy_score(vote_clf_sl_pred, y_test_encoded)\n",
    "print(\"Strong Learning Models Ensemble Accuracy: \", round(vote_clf_sl_accuracy * 100, 2), \"%\")"
   ]
  }
 ],
 "metadata": {
  "kernelspec": {
   "display_name": "Python 3",
   "language": "python",
   "name": "python3"
  },
  "language_info": {
   "codemirror_mode": {
    "name": "ipython",
    "version": 3
   },
   "file_extension": ".py",
   "mimetype": "text/x-python",
   "name": "python",
   "nbconvert_exporter": "python",
   "pygments_lexer": "ipython3",
   "version": "3.11.0"
  }
 },
 "nbformat": 4,
 "nbformat_minor": 2
}
